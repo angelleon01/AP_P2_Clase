{
 "cells": [
  {
   "cell_type": "code",
   "execution_count": 1,
   "metadata": {},
   "outputs": [
    {
     "name": "stdout",
     "output_type": "stream",
     "text": [
      "X: ['0.0000', '2.7183', '14.7781']\n",
      "Y: ['0.0000', '1.0000', '2.0000']\n"
     ]
    }
   ],
   "source": [
    "from scipy.special import lambertw\n",
    "import numpy as np\n",
    "X = [0*np.exp(0), 1*np.exp(1), 2*np.exp(2)]\n",
    "Y = [lambertw(X[0]).real, lambertw(X[1]).real, lambertw(X[2]).real]\n",
    "\n",
    "print(\"X:\", [f\"{x:.4f}\" for x in X])\n",
    "print(\"Y:\", [f\"{y:.4f}\" for y in Y])"
   ]
  }
 ],
 "metadata": {
  "kernelspec": {
   "display_name": "AP",
   "language": "python",
   "name": "python3"
  },
  "language_info": {
   "codemirror_mode": {
    "name": "ipython",
    "version": 3
   },
   "file_extension": ".py",
   "mimetype": "text/x-python",
   "name": "python",
   "nbconvert_exporter": "python",
   "pygments_lexer": "ipython3",
   "version": "3.10.15"
  }
 },
 "nbformat": 4,
 "nbformat_minor": 2
}
